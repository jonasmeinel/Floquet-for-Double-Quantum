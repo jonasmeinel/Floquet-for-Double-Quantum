{
 "cells": [
  {
   "cell_type": "code",
   "execution_count": 3,
   "metadata": {},
   "outputs": [],
   "source": [
    "import numpy as np\n",
    "import matplotlib.pyplot as plt\n",
    "import qutip as q "
   ]
  },
  {
   "cell_type": "markdown",
   "metadata": {},
   "source": [
    "## Non Hermitian Operation, e.g. Nitrogen T2 time"
   ]
  },
  {
   "cell_type": "markdown",
   "metadata": {},
   "source": [
    "In real life when working with NV centers we have relaxation and decoherence coming in a play. In the following,\n",
    "we to study decoherence of the Nitrogen nuclear spin due to the $T_1$-relaxation of the electron spin. For this we use the library, which applies operators (here $S^-$ and $S^+$) based on random number generators.\\\n",
    "\\\n",
    "Further we can see how dressing fields ($S_x$) in the spin triplet can prolong the nuclear lifetime beyond the electron $T_1$ time, see also (Mo Chen et al 2018 New J. Phys. 20 063011)"
   ]
  },
  {
   "cell_type": "code",
   "execution_count": 4,
   "metadata": {},
   "outputs": [
    {
     "data": {
      "text/latex": [
       "Quantum object: dims = [[3], [3]], shape = (3, 3), type = oper, isherm = True\\begin{equation*}\\left(\\begin{array}{*{11}c}0.500 & 0.500 & 0.0\\\\0.500 & 0.500 & 0.0\\\\0.0 & 0.0 & 0.0\\\\\\end{array}\\right)\\end{equation*}"
      ],
      "text/plain": [
       "Quantum object: dims = [[3], [3]], shape = (3, 3), type = oper, isherm = True\n",
       "Qobj data =\n",
       "[[0.5 0.5 0. ]\n",
       " [0.5 0.5 0. ]\n",
       " [0.  0.  0. ]]"
      ]
     },
     "execution_count": 4,
     "metadata": {},
     "output_type": "execute_result"
    }
   ],
   "source": [
    "#Frequency\n",
    "Omega = 1\n",
    "Omega *= 2 * np.pi\n",
    "\n",
    "# NV hamiltonian\n",
    "sx = q.spin_Jx(1)\n",
    "sy = q.spin_Jy(1)\n",
    "sz = q.spin_Jz(1)\n",
    "\n",
    "#time list\n",
    "time_x=1\n",
    "t = np.linspace(0, time_x, 10000)\n",
    "\n",
    "#initial state\n",
    "a = 90\n",
    "phi =np.cos(np.deg2rad(a)/2)*q.basis(3,1) + np.sin(np.deg2rad(a)/2)* q.basis(3,0) \n",
    "\n",
    "rho_nv = phi*phi.dag()\n",
    "rho_nv\n"
   ]
  },
  {
   "cell_type": "code",
   "execution_count": 7,
   "metadata": {},
   "outputs": [
    {
     "name": "stdout",
     "output_type": "stream",
     "text": [
      "Quantum object: dims = [[3, 2], [1, 1]], shape = (6, 1), type = ket\n",
      "Qobj data =\n",
      "[[0.        ]\n",
      " [0.        ]\n",
      " [0.70710678]\n",
      " [0.70710678]\n",
      " [0.        ]\n",
      " [0.        ]]\n",
      "[Quantum object: dims = [[3], [3]], shape = (3, 3), type = oper, isherm = False\n",
      "Qobj data =\n",
      "[[0. 0. 1.]\n",
      " [0. 0. 0.]\n",
      " [0. 0. 0.]], Quantum object: dims = [[3], [3]], shape = (3, 3), type = oper, isherm = False\n",
      "Qobj data =\n",
      "[[0. 1. 0.]\n",
      " [0. 0. 0.]\n",
      " [0. 0. 0.]], Quantum object: dims = [[3], [3]], shape = (3, 3), type = oper, isherm = False\n",
      "Qobj data =\n",
      "[[0. 0. 0.]\n",
      " [0. 0. 1.]\n",
      " [0. 0. 0.]], Quantum object: dims = [[3], [3]], shape = (3, 3), type = oper, isherm = False\n",
      "Qobj data =\n",
      "[[0. 0. 0.]\n",
      " [1. 0. 0.]\n",
      " [0. 0. 0.]], Quantum object: dims = [[3], [3]], shape = (3, 3), type = oper, isherm = False\n",
      "Qobj data =\n",
      "[[0. 0. 0.]\n",
      " [0. 0. 0.]\n",
      " [0. 1. 0.]], Quantum object: dims = [[3], [3]], shape = (3, 3), type = oper, isherm = False\n",
      "Qobj data =\n",
      "[[0. 0. 0.]\n",
      " [0. 0. 0.]\n",
      " [1. 0. 0.]]]\n",
      "10.0%. Run time:  23.08s. Est. time left: 00:00:03:27\n",
      "20.0%. Run time:  43.90s. Est. time left: 00:00:02:55\n",
      "30.0%. Run time:  63.80s. Est. time left: 00:00:02:28\n",
      "40.0%. Run time:  84.08s. Est. time left: 00:00:02:06\n",
      "50.0%. Run time: 104.09s. Est. time left: 00:00:01:44\n",
      "60.0%. Run time: 124.32s. Est. time left: 00:00:01:22\n",
      "70.0%. Run time: 144.10s. Est. time left: 00:00:01:01\n",
      "80.0%. Run time: 164.73s. Est. time left: 00:00:00:41\n",
      "90.0%. Run time: 184.60s. Est. time left: 00:00:00:20\n",
      "100.0%. Run time: 204.49s. Est. time left: 00:00:00:00\n",
      "Total run time: 204.50s\n"
     ]
    }
   ],
   "source": [
    "times = np.linspace(0.0, 20.0, 200)\n",
    "psi0 = q.tensor((q.fock(3, 1)+q.fock(3, 1))/np.sqrt(4), (q.fock(2, 0) +q.fock(2, 1))/np.sqrt(2) )\n",
    "#5 photons, 1 atom\n",
    "print(psi0)\n",
    "Omega = 1\n",
    "Omega *= 2 * np.pi\n",
    "\n",
    "# NV hamiltonian\n",
    "sx = q.spin_Jx(1)\n",
    "sy = q.spin_Jy(1)\n",
    "sz = q.spin_Jz(1)\n",
    "\n",
    "ix = q.spin_Jx(0.5)\n",
    "iy = q.spin_Jy(0.5)\n",
    "iz = q.spin_Jz(0.5)\n",
    "\n",
    "\n",
    "\n",
    "Sx = q.tensor(sx, q.qeye(2))\n",
    "Sy = q.tensor(sy, q.qeye(2))\n",
    "Sz = q.tensor(sz, q.qeye(2))\n",
    "\n",
    "Ix = q.tensor(q.qeye(3), ix)\n",
    "Iy = q.tensor(q.qeye(3), iy)\n",
    "Iz = q.tensor(q.qeye(3), iz)\n",
    "\n",
    "\n",
    "subx1 = q.Qobj(np.asarray([[0,1,0],[1,0,0],[0,0,0]]))\n",
    "subx2 = q.Qobj(np.asarray([[0,0,0],[0,0,1],[0,1,0]]))\n",
    "\n",
    "xx1 = q.tensor(subx1, q.qeye(2))\n",
    "xx2 = q.tensor(subx2, q.qeye(2))\n",
    "\n",
    "#print(subx1 + subx2)\n",
    "\n",
    "\n",
    "#a  = q.tensor(q.qeye(3),q.qeye(2))\n",
    "ap = q.tensor(q.spin_Jp(1), q.qeye(2))\n",
    "am = q.tensor(q.spin_Jm(1), q.qeye(2))\n",
    "#\n",
    "#print(av)\n",
    "v1 = q.Qobj(np.asarray([[0,0,1],[0,0,0],[0,0,0]]))\n",
    "v2 = q.Qobj(np.asarray([[0,1,0],[0,0,0],[0,0,0]]))\n",
    "v3 = q.Qobj(np.asarray([[0,0,0],[0,0,1],[0,0,0]]))\n",
    "v4 = q.Qobj(np.asarray([[0,0,0],[1,0,0],[0,0,0]]))\n",
    "v5 = q.Qobj(np.asarray([[0,0,0],[0,0,0],[0,1,0]]))\n",
    "v6 = q.Qobj(np.asarray([[0,0,0],[0,0,0],[1,0,0]]))\n",
    "\n",
    "vall = [v1,v2,v3,v4,v5,v6]\n",
    "print(vall)\n",
    "\n",
    "\n",
    "#av = q.tensor(verboten, q.qeye(2))\n",
    "\n",
    "decay_array = []\n",
    "prob = 0.6e-1\n",
    "\n",
    "for v in vall:\n",
    "    vnew=q.tensor(v, q.qeye(2))\n",
    "    decay_array.append(np.sqrt(prob) * vnew)\n",
    "\n",
    "#inhomogenious driving\n",
    "a = 40\n",
    "b = 30\n",
    "H =  2 * np.pi * 0 * Sx + 5 * np.pi * Sz * Iz + 40 * np.pi * 2 * Iz + a * 2 * np.pi * xx1 + b * 2 * np.pi * xx2\n",
    "\n",
    "#print(decay_array)\n",
    "\n",
    "\n",
    "data = q.mcsolve(H, psi0, times, decay_array, [Ix, Sx])"
   ]
  },
  {
   "cell_type": "code",
   "execution_count": 8,
   "metadata": {},
   "outputs": [
    {
     "ename": "NameError",
     "evalue": "name 'ctimes' is not defined",
     "output_type": "error",
     "traceback": [
      "\u001b[0;31m---------------------------------------------------------------------------\u001b[0m",
      "\u001b[0;31mNameError\u001b[0m                                 Traceback (most recent call last)",
      "\u001b[0;32m<ipython-input-8-9a5bf63131d7>\u001b[0m in \u001b[0;36m<module>\u001b[0;34m\u001b[0m\n\u001b[1;32m      1\u001b[0m \u001b[0mplt\u001b[0m\u001b[0;34m.\u001b[0m\u001b[0mplot\u001b[0m\u001b[0;34m(\u001b[0m\u001b[0mtimes\u001b[0m\u001b[0;34m,\u001b[0m \u001b[0mdata\u001b[0m\u001b[0;34m.\u001b[0m\u001b[0mexpect\u001b[0m\u001b[0;34m[\u001b[0m\u001b[0;36m0\u001b[0m\u001b[0;34m]\u001b[0m\u001b[0;34m)\u001b[0m\u001b[0;31m#, times, data.expect[1])\u001b[0m\u001b[0;34m\u001b[0m\u001b[0;34m\u001b[0m\u001b[0m\n\u001b[0;32m----> 2\u001b[0;31m \u001b[0mplt\u001b[0m\u001b[0;34m.\u001b[0m\u001b[0mplot\u001b[0m\u001b[0;34m(\u001b[0m\u001b[0mctimes\u001b[0m\u001b[0;34m,\u001b[0m\u001b[0mdata1\u001b[0m\u001b[0;34m)\u001b[0m\u001b[0;31m#,ctimes,data2)\u001b[0m\u001b[0;34m\u001b[0m\u001b[0;34m\u001b[0m\u001b[0m\n\u001b[0m\u001b[1;32m      3\u001b[0m \u001b[0;31m#plt.yscale('log')\u001b[0m\u001b[0;34m\u001b[0m\u001b[0;34m\u001b[0m\u001b[0;34m\u001b[0m\u001b[0m\n\u001b[1;32m      4\u001b[0m \u001b[0mplt\u001b[0m\u001b[0;34m.\u001b[0m\u001b[0mtitle\u001b[0m\u001b[0;34m(\u001b[0m\u001b[0;34m'Protecting Nuclear Spin'\u001b[0m\u001b[0;34m)\u001b[0m\u001b[0;34m\u001b[0m\u001b[0;34m\u001b[0m\u001b[0m\n\u001b[1;32m      5\u001b[0m \u001b[0;34m\u001b[0m\u001b[0m\n",
      "\u001b[0;31mNameError\u001b[0m: name 'ctimes' is not defined"
     ]
    },
    {
     "data": {
      "image/png": "[encoded data removed]",
      "text/plain": [
       "<Figure size 432x288 with 1 Axes>"
      ]
     },
     "metadata": {
      "needs_background": "light"
     },
     "output_type": "display_data"
    }
   ],
   "source": [
    "plt.plot(times, data.expect[0])#, times, data.expect[1])\n",
    "plt.plot(ctimes,data1)#,ctimes,data2)\n",
    "#plt.yscale('log')\n",
    "plt.title('Protecting Nuclear Spin')\n",
    "\n",
    "plt.xlabel('Time')\n",
    "plt.ylabel('<$I_x$>')\n",
    "plt.legend((\"$S_z$\", \"$S_x$\"),loc=4)\n",
    "plt.tight_layout()\n",
    "#plt.savefig('protection-first.png',dpi=150)\n",
    "plt.show()\n",
    " "
   ]
  },
  {
   "cell_type": "code",
   "execution_count": null,
   "metadata": {},
   "outputs": [],
   "source": []
  }
 ],
 "metadata": {
  "kernelspec": {
   "display_name": "Python 3",
   "language": "python",
   "name": "python3"
  },
  "language_info": {
   "codemirror_mode": {
    "name": "ipython",
    "version": 3
   },
   "file_extension": ".py",
   "mimetype": "text/x-python",
   "name": "python",
   "nbconvert_exporter": "python",
   "pygments_lexer": "ipython3",
   "version": "3.8.5"
  }
 },
 "nbformat": 4,
 "nbformat_minor": 4
}
