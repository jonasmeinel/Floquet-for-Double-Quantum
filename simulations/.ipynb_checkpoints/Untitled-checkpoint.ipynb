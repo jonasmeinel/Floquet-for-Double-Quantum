{
 "cells": [
  {
   "cell_type": "code",
   "execution_count": 1,
   "metadata": {},
   "outputs": [],
   "source": [
    "import qutip as q\n",
    "import numpy as np\n",
    "import subprocess\n",
    "import ffmpeg\n",
    "import pickle\n",
    "import os\n",
    "import re\n",
    "\n",
    "%matplotlib inline\n",
    "from matplotlib import rc\n",
    "from matplotlib import pyplot as plt\n",
    "font = {'weight' : 'normal',\n",
    "        'size'   : 18}\n",
    "rc('font', **font)\n",
    "\n",
    "from matplotlib.font_manager import FontProperties"
   ]
  },
  {
   "cell_type": "markdown",
   "metadata": {},
   "source": [
    "Our final goal is to solve understand to solve this Hamiltonian for double quantum sensing"
   ]
  },
  {
   "cell_type": "markdown",
   "metadata": {},
   "source": [
    "$H = D S_z^2 + \\frac{\\omega_0}{2}  \\,S_z + \\frac{\\Omega_{rf}}{2}  \\,cos(\\omega_{rf}t) S_z  + \\Omega_1 \\, \\cos(\\omega_1 t) \\, \\sigma_x$"
   ]
  },
  {
   "cell_type": "markdown",
   "metadata": {},
   "source": [
    "where $\\omega_0$ is the magnetic field $\\omega_0 = \\gamma B$, $D$ is the zero field splitting, $\\Omega_{rf}$ \n",
    "is the strength and $\\omega_{rf}$ is the frequency of the strong longitudinal RF field, finally we have the \n",
    "control field $\\Omega_1$ given the transitions between energy levels."
   ]
  },
  {
   "cell_type": "markdown",
   "metadata": {},
   "source": [
    "Firat we define the operators and verify all variables with FID/rabi oscillations"
   ]
  },
  {
   "cell_type": "code",
   "execution_count": 137,
   "metadata": {},
   "outputs": [],
   "source": [
    "#resonance frequency D \\pm ws\n",
    "ws = 0.06e3\n",
    "D = 2.8e3\n",
    "\n",
    "def get_Hdc():\n",
    "    Hdc = ws * sz + D*(sz**2)\n",
    "    return Hdc"
   ]
  },
  {
   "cell_type": "code",
   "execution_count": 138,
   "metadata": {},
   "outputs": [
    {
     "data": {
      "text/latex": [
       "Quantum object: dims = [[3], [3]], shape = (3, 3), type = oper, isherm = True\\begin{equation*}\\left(\\begin{array}{*{11}c}0.500 & 0.500 & 0.0\\\\0.500 & 0.500 & 0.0\\\\0.0 & 0.0 & 0.0\\\\\\end{array}\\right)\\end{equation*}"
      ],
      "text/plain": [
       "Quantum object: dims = [[3], [3]], shape = (3, 3), type = oper, isherm = True\n",
       "Qobj data =\n",
       "[[0.5 0.5 0. ]\n",
       " [0.5 0.5 0. ]\n",
       " [0.  0.  0. ]]"
      ]
     },
     "execution_count": 138,
     "metadata": {},
     "output_type": "execute_result"
    }
   ],
   "source": [
    "#Frequency\n",
    "Omega = 1\n",
    "Omega *= 2 * np.pi\n",
    "\n",
    "# NV hamiltonian\n",
    "sx = q.spin_Jx(1)\n",
    "sy = q.spin_Jy(1)\n",
    "sz = q.spin_Jz(1)\n",
    "\n",
    "\n",
    "\n",
    "Hdc = get_Hdc()\n",
    "\n",
    "#time list\n",
    "time_x=2\n",
    "t = np.linspace(0, time_x, 5000)\n",
    "\n",
    "#initial state\n",
    "a = 45\n",
    "phi =np.cos(np.deg2rad(a))*q.basis(3,0) + np.sin(np.deg2rad(a))* q.basis(3,1)\n",
    "rho_nv = phi*phi.dag()\n",
    "rho_nv\n"
   ]
  },
  {
   "cell_type": "code",
   "execution_count": 140,
   "metadata": {},
   "outputs": [
    {
     "name": "stderr",
     "output_type": "stream",
     "text": [
      "C:\\Users\\yy3\\anaconda3\\lib\\site-packages\\numpy\\core\\_asarray.py:83: ComplexWarning: Casting complex values to real discards the imaginary part\n",
      "  return array(a, dtype, copy=False, order=order)\n"
     ]
    },
    {
     "data": {
      "text/plain": [
       "[<matplotlib.lines.Line2D at 0x2c260703970>]"
      ]
     },
     "execution_count": 140,
     "metadata": {},
     "output_type": "execute_result"
    },
    {
     "data": {
      "image/png": "[encoded data removed]",
      "text/plain": [
       "<Figure size 432x288 with 1 Axes>"
      ]
     },
     "metadata": {
      "needs_background": "light"
     },
     "output_type": "display_data"
    }
   ],
   "source": [
    "resultat = []\n",
    "resultat.append(q.mesolve(H=Hdc, rho0=rho_nv, tlist=t, c_ops = [], e_ops=[], options=q.Options(nsteps=100000)))\n",
    "\n",
    "data = q.expect(resultat[0].states, sx)\n",
    "\n",
    "#plot Fourier of the FID\n",
    "plt.plot(np.fft.rfft(data))"
   ]
  },
  {
   "cell_type": "markdown",
   "metadata": {},
   "source": [
    "## Time dependant Hamiltonian"
   ]
  },
  {
   "cell_type": "markdown",
   "metadata": {},
   "source": [
    "### First only Probe and 3LS - no Floquet"
   ]
  },
  {
   "cell_type": "code",
   "execution_count": 141,
   "metadata": {},
   "outputs": [
    {
     "data": {
      "text/plain": [
       "[Quantum object: dims = [[3], [3]], shape = (3, 3), type = oper, isherm = True\n",
       " Qobj data =\n",
       " [[2860.    0.    0.]\n",
       "  [   0.    0.    0.]\n",
       "  [   0.    0. 2740.]],\n",
       " [Quantum object: dims = [[3], [3]], shape = (3, 3), type = oper, isherm = True\n",
       "  Qobj data =\n",
       "  [[0.         0.00707107 0.        ]\n",
       "   [0.00707107 0.         0.00707107]\n",
       "   [0.         0.00707107 0.        ]],\n",
       "  <function __main__.Hxprobe_coeff(t, args)>]]"
      ]
     },
     "execution_count": 141,
     "metadata": {},
     "output_type": "execute_result"
    }
   ],
   "source": [
    "\n",
    "\n",
    "Omega = 0.01\n",
    "Omegarf = 0.04\n",
    "\n",
    "#time independant\n",
    "Hdc = get_Hdc()\n",
    "\n",
    "#time dependant\n",
    "H1 = Omega * sx\n",
    "Hrf = Omegarf * sz\n",
    "\n",
    "#time dependant functions\n",
    "def Hx1_coeff(t,args):\n",
    "    freq = args['freq1']\n",
    "    return np.sin(2 * np.pi *freq * t)\n",
    "\n",
    "\n",
    "\n",
    "def Hxprobe_coeff(t,args):\n",
    "    freq = args['freqp'] \n",
    "    phase = args['phasep']\n",
    "    return np.sin(2 * np.pi *freq * t + phase)\n",
    "\n",
    "\n",
    "#Overall Hamiltonian\n",
    "H = [Hdc,[H1,Hxprobe_coeff]] #[Hrf,Hx1_coeff],\n",
    "H"
   ]
  },
  {
   "cell_type": "code",
   "execution_count": 146,
   "metadata": {},
   "outputs": [
    {
     "name": "stdout",
     "output_type": "stream",
     "text": [
      "Quantum object: dims = [[3], [3]], shape = (3, 3), type = oper, isherm = True\n",
      "Qobj data =\n",
      "[[0. 0. 0.]\n",
      " [0. 1. 0.]\n",
      " [0. 0. 0.]]\n"
     ]
    },
    {
     "data": {
      "text/plain": [
       "[<matplotlib.lines.Line2D at 0x2c26245c280>]"
      ]
     },
     "execution_count": 146,
     "metadata": {},
     "output_type": "execute_result"
    },
    {
     "data": {
      "image/png": "[encoded data removed]",
      "text/plain": [
       "<Figure size 432x288 with 1 Axes>"
      ]
     },
     "metadata": {
      "needs_background": "light"
     },
     "output_type": "display_data"
    }
   ],
   "source": [
    "#initial state\n",
    "phi = q.basis(3,1)\n",
    "rho_nv = phi*phi.dag()\n",
    "print(rho_nv)\n",
    "\n",
    "startf = -2\n",
    "stopf = 2\n",
    "\n",
    "odmr_frq = []\n",
    "odmr = []\n",
    "length=10\n",
    "wrf = 1\n",
    "phase = 0\n",
    "\n",
    "freqs  = np.linspace(startf,stopf,length)\n",
    "\n",
    "for k in range(length):\n",
    "    wodmr = freqs[k] + 2860\n",
    "    odmr_frq.append(wodmr)\n",
    "    output = q.mesolve(H=H, rho0=rho_nv, tlist=t, c_ops = [], e_ops=[], \n",
    "                       options=q.Options(nsteps=100000), args={'freq1':wodmr ,'freqp': wrf, 'phasep': phase})\n",
    "    odmr.append(q.expect(output.states, sz)[-1])\n",
    "    \n",
    "plt.plot(t,q.expect(output.states, sz))"
   ]
  },
  {
   "cell_type": "code",
   "execution_count": 147,
   "metadata": {},
   "outputs": [
    {
     "data": {
      "text/plain": [
       "[<matplotlib.lines.Line2D at 0x2c2628d5d30>]"
      ]
     },
     "execution_count": 147,
     "metadata": {},
     "output_type": "execute_result"
    },
    {
     "data": {
      "image/png": "[encoded data removed]",
      "text/plain": [
       "<Figure size 432x288 with 1 Axes>"
      ]
     },
     "metadata": {
      "needs_background": "light"
     },
     "output_type": "display_data"
    }
   ],
   "source": [
    "plt.plot(odmr)"
   ]
  },
  {
   "cell_type": "code",
   "execution_count": null,
   "metadata": {},
   "outputs": [],
   "source": []
  }
 ],
 "metadata": {
  "kernelspec": {
   "display_name": "Python 3",
   "language": "python",
   "name": "python3"
  },
  "language_info": {
   "codemirror_mode": {
    "name": "ipython",
    "version": 3
   },
   "file_extension": ".py",
   "mimetype": "text/x-python",
   "name": "python",
   "nbconvert_exporter": "python",
   "pygments_lexer": "ipython3",
   "version": "3.8.5"
  }
 },
 "nbformat": 4,
 "nbformat_minor": 4
}
